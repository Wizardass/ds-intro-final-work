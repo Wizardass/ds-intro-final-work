{
 "cells": [
  {
   "cell_type": "code",
   "execution_count": null,
   "id": "9e4f8985",
   "metadata": {},
   "outputs": [],
   "source": [
    "import dill\n",
    "import pandas as pd\n",
    "import datetime\n",
    "import time\n",
    "import pickle\n",
    "import matplotlib.pyplot as plt\n",
    "\n",
    "from geopy.geocoders import Nominatim\n",
    "from sklearn.preprocessing import OneHotEncoder, StandardScaler, FunctionTransformer\n",
    "from sklearn.linear_model import LogisticRegression\n",
    "from sklearn.ensemble import RandomForestClassifier\n",
    "from sklearn.neural_network import MLPClassifier\n",
    "from sklearn.metrics import accuracy_score, confusion_matrix, roc_auc_score\n",
    "from sklearn.model_selection import train_test_split, cross_validate, cross_val_score\n",
    "from sklearn.pipeline import Pipeline\n",
    "from sklearn.impute import SimpleImputer\n",
    "from sklearn.compose import ColumnTransformer, make_column_selector"
   ]
  },
  {
   "cell_type": "code",
   "execution_count": null,
   "id": "25c405e9",
   "metadata": {
    "scrolled": true
   },
   "outputs": [],
   "source": [
    "df = pd.read_csv('data/ga_sessions.csv', low_memory=False)\n",
    "df"
   ]
  },
  {
   "cell_type": "code",
   "execution_count": null,
   "id": "1a998914",
   "metadata": {
    "scrolled": true
   },
   "outputs": [],
   "source": [
    "df2 = pd.read_csv('data/ga_hits.csv', low_memory=False)\n",
    "df2"
   ]
  },
  {
   "cell_type": "code",
   "execution_count": null,
   "id": "906935ee",
   "metadata": {},
   "outputs": [],
   "source": [
    "values_to_select = [\n",
    "    'sub_car_claim_click', \n",
    "    'sub_car_claim_submit_click',\n",
    "    'sub_open_dialog_click', \n",
    "    'sub_custom_question_submit_click',\n",
    "    'sub_call_number_click', \n",
    "    'sub_callback_submit_click', \n",
    "    'sub_submit_success',\n",
    "    'sub_car_request_submit_click'\n",
    "]\n",
    "\n",
    "selected_rows = df2[df2['event_action'].isin(values_to_select)][['session_id', 'event_action']]\n",
    "selected_rows['event_action'] = 1\n",
    "selected_rows"
   ]
  },
  {
   "cell_type": "code",
   "execution_count": null,
   "id": "bedb6287",
   "metadata": {},
   "outputs": [],
   "source": [
    "selected_rows[selected_rows.duplicated()]"
   ]
  },
  {
   "cell_type": "code",
   "execution_count": null,
   "id": "c13efe20",
   "metadata": {},
   "outputs": [],
   "source": [
    "selected_rows = selected_rows.drop_duplicates()\n",
    "df = df.merge(selected_rows, on='session_id', how='left')\n",
    "df"
   ]
  },
  {
   "cell_type": "code",
   "execution_count": null,
   "id": "cf2e42c6",
   "metadata": {},
   "outputs": [],
   "source": [
    "df['event_action'] = df['event_action'].apply(lambda x: 0 if pd.isnull(x) else x)\n",
    "df['event_action'] = df['event_action'].astype(int)\n",
    "df"
   ]
  },
  {
   "cell_type": "markdown",
   "id": "40978c49",
   "metadata": {},
   "source": [
    "## Data Preparation"
   ]
  },
  {
   "cell_type": "markdown",
   "id": "331b3cd3",
   "metadata": {},
   "source": [
    "### Data Cleaning"
   ]
  },
  {
   "cell_type": "markdown",
   "id": "b97d92c9",
   "metadata": {},
   "source": [
    "#### Duplicates"
   ]
  },
  {
   "cell_type": "code",
   "execution_count": null,
   "id": "d12efc88",
   "metadata": {
    "scrolled": true
   },
   "outputs": [],
   "source": [
    "df[df.duplicated()]"
   ]
  },
  {
   "cell_type": "markdown",
   "id": "05d0c29e",
   "metadata": {},
   "source": [
    "#### Missing values"
   ]
  },
  {
   "cell_type": "code",
   "execution_count": null,
   "id": "814abf02",
   "metadata": {},
   "outputs": [],
   "source": [
    "df.describe(include='all')"
   ]
  },
  {
   "cell_type": "code",
   "execution_count": null,
   "id": "d8e76ef2",
   "metadata": {},
   "outputs": [],
   "source": [
    "for i in df.columns:\n",
    "    print('Характеристика', i)\n",
    "    print('Количество уникальных значений', df[i].nunique())\n",
    "    print('Список значений: ')\n",
    "    print(df[i].value_counts())"
   ]
  },
  {
   "cell_type": "code",
   "execution_count": null,
   "id": "cee5863a",
   "metadata": {},
   "outputs": [],
   "source": [
    "df.info(verbose=True, show_counts=True)"
   ]
  },
  {
   "cell_type": "code",
   "execution_count": null,
   "id": "e5c3cdba",
   "metadata": {},
   "outputs": [],
   "source": [
    "df.isna().sum().sort_values()"
   ]
  },
  {
   "cell_type": "code",
   "execution_count": null,
   "id": "7f561f6b",
   "metadata": {},
   "outputs": [],
   "source": [
    "missing_values = ((df.isna().sum() / len(df))*100).sort_values()\n",
    "print(\"Процент пропущенных значений: \")\n",
    "missing_values"
   ]
  },
  {
   "cell_type": "code",
   "execution_count": null,
   "id": "34df003b",
   "metadata": {},
   "outputs": [],
   "source": [
    "def print_useful_rows_indo(df):\n",
    "    print('Количество полностью заполненных объектов из всей выборки:', len(df.dropna()))\n",
    "    print('Процент полностью заполненных объектов из всей выборки:', round(len(df.dropna()) / len(df) * 100, 2))"
   ]
  },
  {
   "cell_type": "code",
   "execution_count": null,
   "id": "611dc60d",
   "metadata": {},
   "outputs": [],
   "source": [
    "df_clean = df.copy()"
   ]
  },
  {
   "cell_type": "code",
   "execution_count": null,
   "id": "b25d78c2",
   "metadata": {},
   "outputs": [],
   "source": [
    "print_useful_rows_indo(df_clean)"
   ]
  },
  {
   "cell_type": "code",
   "execution_count": null,
   "id": "012e65d1",
   "metadata": {},
   "outputs": [],
   "source": [
    "df_clean.device_model.value_counts(dropna=False)"
   ]
  },
  {
   "cell_type": "code",
   "execution_count": null,
   "id": "fb02a5d8",
   "metadata": {},
   "outputs": [],
   "source": [
    "df_clean.device_os.value_counts(dropna=False)"
   ]
  },
  {
   "cell_type": "code",
   "execution_count": null,
   "id": "d3a5f8db",
   "metadata": {},
   "outputs": [],
   "source": [
    "df_clean.utm_keyword.value_counts(dropna=False)"
   ]
  },
  {
   "cell_type": "code",
   "execution_count": null,
   "id": "b5bdd914",
   "metadata": {},
   "outputs": [],
   "source": [
    "df_clean = df_clean.drop(columns = ['device_model', 'utm_keyword'])\n",
    "df_clean"
   ]
  },
  {
   "cell_type": "code",
   "execution_count": null,
   "id": "cfc3be8f",
   "metadata": {},
   "outputs": [],
   "source": [
    "df_clean.isna().sum().sort_values()"
   ]
  },
  {
   "cell_type": "code",
   "execution_count": null,
   "id": "607b2f8b",
   "metadata": {},
   "outputs": [],
   "source": [
    "for col in df_clean.columns:\n",
    "    if df_clean[col].dtype == 'object':\n",
    "        df_clean[col] = df_clean[col].str.lower()"
   ]
  },
  {
   "cell_type": "markdown",
   "id": "18fd8f8d",
   "metadata": {},
   "source": [
    "##### device_brand"
   ]
  },
  {
   "cell_type": "code",
   "execution_count": null,
   "id": "8a9e6550",
   "metadata": {},
   "outputs": [],
   "source": [
    "df_clean.device_brand.value_counts(dropna=False)"
   ]
  },
  {
   "cell_type": "code",
   "execution_count": null,
   "id": "a8555123",
   "metadata": {
    "scrolled": true
   },
   "outputs": [],
   "source": [
    "df_clean.device_browser.value_counts(dropna=False)"
   ]
  },
  {
   "cell_type": "code",
   "execution_count": null,
   "id": "196d86e9",
   "metadata": {
    "scrolled": true
   },
   "outputs": [],
   "source": [
    "df_clean[df_clean.device_brand.isna()].device_browser.value_counts(dropna=False)"
   ]
  },
  {
   "cell_type": "code",
   "execution_count": null,
   "id": "a9ad8598",
   "metadata": {
    "scrolled": true
   },
   "outputs": [],
   "source": [
    "for i in df_clean[df_clean.device_brand.isna()].device_browser.unique():\n",
    "    print('Browser -', i)\n",
    "    print(df_clean[df_clean['device_browser'] == i].device_brand.value_counts(dropna=False))"
   ]
  },
  {
   "cell_type": "code",
   "execution_count": null,
   "id": "565a388b",
   "metadata": {},
   "outputs": [],
   "source": [
    "df[(df['device_brand'].isna()) & (df['device_browser'] == 'Safari')].device_screen_resolution.value_counts()"
   ]
  },
  {
   "cell_type": "code",
   "execution_count": null,
   "id": "9f48dab3",
   "metadata": {
    "scrolled": true
   },
   "outputs": [],
   "source": [
    "sorted(df[(df['device_brand'].isna()) & (df['device_browser'] == 'Safari')].device_screen_resolution.unique().tolist())"
   ]
  },
  {
   "cell_type": "code",
   "execution_count": null,
   "id": "a3953e9f",
   "metadata": {},
   "outputs": [],
   "source": [
    "def set_device_brand(x):\n",
    "    if pd.notnull(x['device_brand']):\n",
    "        return x['device_brand']\n",
    "    elif x['device_browser'] == 'samsung internet':\n",
    "        return 'samsung'\n",
    "    elif x['device_browser'] == 'safari':\n",
    "        return 'apple'\n",
    "    elif (x['device_category'] == 'desktop') or (int(x['device_screen_resolution'].split('x')[0]) > int(x['device_screen_resolution'].split('x')[1])):\n",
    "        return 'pc'\n",
    "    else:\n",
    "        return '(not set)'\n",
    "\n",
    "df_clean['device_brand'] = df_clean.apply(set_device_brand, axis=1)\n",
    "\n",
    "df_clean[df_clean.device_brand.isna()]"
   ]
  },
  {
   "cell_type": "code",
   "execution_count": null,
   "id": "95462966",
   "metadata": {},
   "outputs": [],
   "source": [
    "df_clean[df_clean.device_brand.isna()].device_browser.value_counts(dropna=False)"
   ]
  },
  {
   "cell_type": "markdown",
   "id": "4eabc14f",
   "metadata": {},
   "source": [
    "##### device_os"
   ]
  },
  {
   "cell_type": "code",
   "execution_count": null,
   "id": "c7604ca9",
   "metadata": {},
   "outputs": [],
   "source": [
    "df_clean.device_os.value_counts(dropna=False)"
   ]
  },
  {
   "cell_type": "code",
   "execution_count": null,
   "id": "c4604568",
   "metadata": {
    "scrolled": true
   },
   "outputs": [],
   "source": [
    "brand = dict(df_clean.device_brand.value_counts())\n",
    "brand"
   ]
  },
  {
   "cell_type": "code",
   "execution_count": null,
   "id": "cd981dbd",
   "metadata": {},
   "outputs": [],
   "source": [
    "def clean_device_os(data):\n",
    "    brand = data['device_brand']\n",
    "    if pd.isna(data['device_os']):\n",
    "        if isinstance(brand, str):\n",
    "            if 'apple' in brand:\n",
    "                return 'ios'\n",
    "            elif 'pc' in brand:\n",
    "                return 'windows'\n",
    "        return 'android'\n",
    "    return data['device_os']\n",
    "\n",
    "df_clean['device_os'] = df_clean.apply(clean_device_os, axis=1)\n",
    "\n",
    "df_clean.device_os.value_counts(dropna=False)"
   ]
  },
  {
   "cell_type": "code",
   "execution_count": null,
   "id": "2909cb45",
   "metadata": {},
   "outputs": [],
   "source": [
    "df_clean[df_clean['device_category']=='desktop'].device_os.value_counts()"
   ]
  },
  {
   "cell_type": "markdown",
   "id": "50845f61",
   "metadata": {},
   "source": [
    "##### utm_adcontent & utm_campaign & utm_source"
   ]
  },
  {
   "cell_type": "code",
   "execution_count": null,
   "id": "5cc3847a",
   "metadata": {},
   "outputs": [],
   "source": [
    "df_clean.isna().sum().sort_values()"
   ]
  },
  {
   "cell_type": "code",
   "execution_count": null,
   "id": "76127446",
   "metadata": {},
   "outputs": [],
   "source": [
    "df_clean.utm_campaign.describe()"
   ]
  },
  {
   "cell_type": "code",
   "execution_count": null,
   "id": "56b96daf",
   "metadata": {},
   "outputs": [],
   "source": [
    "df_clean.utm_campaign.value_counts(dropna=False)"
   ]
  },
  {
   "cell_type": "code",
   "execution_count": null,
   "id": "797815c5",
   "metadata": {},
   "outputs": [],
   "source": [
    "df_clean.utm_adcontent.describe()"
   ]
  },
  {
   "cell_type": "code",
   "execution_count": null,
   "id": "fab42bd1",
   "metadata": {},
   "outputs": [],
   "source": [
    "df_clean.utm_adcontent.value_counts(dropna=False)"
   ]
  },
  {
   "cell_type": "code",
   "execution_count": null,
   "id": "af377dc2",
   "metadata": {},
   "outputs": [],
   "source": [
    "df_clean.utm_source.describe()"
   ]
  },
  {
   "cell_type": "code",
   "execution_count": null,
   "id": "7edc13ff",
   "metadata": {},
   "outputs": [],
   "source": [
    "df_clean.utm_source.value_counts(dropna=False)"
   ]
  },
  {
   "cell_type": "code",
   "execution_count": null,
   "id": "68aabd5f",
   "metadata": {},
   "outputs": [],
   "source": [
    "df_clean[(df_clean.utm_adcontent.isna()) & (df_clean.utm_campaign.isna())]"
   ]
  },
  {
   "cell_type": "code",
   "execution_count": null,
   "id": "90c7fe54",
   "metadata": {},
   "outputs": [],
   "source": [
    "df_clean[(df_clean.utm_adcontent.isna()) & (df_clean.utm_campaign.isna())].event_action.value_counts()"
   ]
  },
  {
   "cell_type": "code",
   "execution_count": null,
   "id": "00d5f546",
   "metadata": {},
   "outputs": [],
   "source": [
    "df_clean[(df_clean.utm_adcontent.isna()) & (df_clean.utm_campaign.isna()) & (df_clean['event_action']==1)]"
   ]
  },
  {
   "cell_type": "code",
   "execution_count": null,
   "id": "9614c389",
   "metadata": {},
   "outputs": [],
   "source": [
    "for i in df_clean[df_clean.utm_adcontent.isna()].utm_campaign.unique():\n",
    "    print('utm_campaign -', i)\n",
    "    print(df_clean[df_clean['utm_campaign'] == i].utm_adcontent.value_counts(dropna=False).head(3))"
   ]
  },
  {
   "cell_type": "code",
   "execution_count": null,
   "id": "3a7bad6b",
   "metadata": {},
   "outputs": [],
   "source": [
    "for i in df_clean.utm_source.unique():\n",
    "    print('utm_source -', i)\n",
    "    print(df_clean[df_clean['utm_source'] == i].utm_adcontent.value_counts(dropna=False).head(3))"
   ]
  },
  {
   "cell_type": "code",
   "execution_count": null,
   "id": "84e3e3ca",
   "metadata": {},
   "outputs": [],
   "source": [
    "df_clean[(df_clean['utm_source']=='kjsLglQLzykiRbcDiGcD') & (df_clean.utm_adcontent.isna())]"
   ]
  },
  {
   "cell_type": "code",
   "execution_count": null,
   "id": "e664ec0c",
   "metadata": {
    "scrolled": true
   },
   "outputs": [],
   "source": [
    "df_clean[df_clean.utm_source.isna()]"
   ]
  },
  {
   "cell_type": "code",
   "execution_count": null,
   "id": "e47acbc6",
   "metadata": {},
   "outputs": [],
   "source": [
    "df_clean[df_clean.utm_source.isna()].utm_campaign.value_counts(dropna=False)"
   ]
  },
  {
   "cell_type": "code",
   "execution_count": null,
   "id": "3c2a3767",
   "metadata": {},
   "outputs": [],
   "source": [
    "df_clean[df_clean.utm_source.isna()].utm_adcontent.value_counts(dropna=False)"
   ]
  },
  {
   "cell_type": "code",
   "execution_count": null,
   "id": "ac630d99",
   "metadata": {
    "scrolled": true
   },
   "outputs": [],
   "source": [
    "df_clean.utm_medium.value_counts()"
   ]
  },
  {
   "cell_type": "code",
   "execution_count": null,
   "id": "746b3f98",
   "metadata": {},
   "outputs": [],
   "source": [
    "df_clean = df_clean.fillna('other')"
   ]
  },
  {
   "cell_type": "code",
   "execution_count": null,
   "id": "1750c89a",
   "metadata": {},
   "outputs": [],
   "source": [
    "df_clean.utm_adcontent.value_counts(dropna=False)"
   ]
  },
  {
   "cell_type": "code",
   "execution_count": null,
   "id": "68f14fea",
   "metadata": {},
   "outputs": [],
   "source": [
    "print_useful_rows_indo(df_clean)"
   ]
  },
  {
   "cell_type": "markdown",
   "id": "e35ee3f6",
   "metadata": {},
   "source": [
    "#### Outliers"
   ]
  },
  {
   "cell_type": "code",
   "execution_count": null,
   "id": "7c067298",
   "metadata": {},
   "outputs": [],
   "source": [
    "def calculate_outliers(data):\n",
    "    q25 = data.quantile(0.25)\n",
    "    q75 = data.quantile(0.75)\n",
    "    iqr = q75 - q25\n",
    "    boundaries = (q25 - 1.5 * iqr, q75 + 1.5 * iqr)\n",
    "    \n",
    "    return boundaries"
   ]
  },
  {
   "cell_type": "markdown",
   "id": "fe0812be",
   "metadata": {},
   "source": [
    "##### visit_number"
   ]
  },
  {
   "cell_type": "code",
   "execution_count": null,
   "id": "86a5af07",
   "metadata": {},
   "outputs": [],
   "source": [
    "df_clean.visit_number.describe()"
   ]
  },
  {
   "cell_type": "code",
   "execution_count": null,
   "id": "e12bdcce",
   "metadata": {},
   "outputs": [],
   "source": [
    "grouped_data = df_clean.groupby('visit_number')['event_action'].mean()\n",
    "\n",
    "plt.figure(figsize=(12, 6))\n",
    "plt.bar(grouped_data.index, grouped_data.values)\n",
    "plt.xlabel('visit_number')\n",
    "plt.ylabel('Среднее значение event_action')\n",
    "plt.title('Зависимость event_action от visit_number')\n",
    "plt.show()"
   ]
  },
  {
   "cell_type": "code",
   "execution_count": null,
   "id": "9220144f",
   "metadata": {},
   "outputs": [],
   "source": [
    "df_clean[df_clean['visit_number']<=3].event_action.value_counts(dropna=False)"
   ]
  },
  {
   "cell_type": "code",
   "execution_count": null,
   "id": "e679a807",
   "metadata": {},
   "outputs": [],
   "source": [
    "df_clean[df_clean['visit_number']>3].event_action.value_counts(dropna=False)"
   ]
  },
  {
   "cell_type": "code",
   "execution_count": null,
   "id": "0c4fefa5",
   "metadata": {},
   "outputs": [],
   "source": [
    "visit_number_bounds = calculate_outliers(df_clean.visit_number)\n",
    "visit_number_bounds"
   ]
  },
  {
   "cell_type": "markdown",
   "id": "01641423",
   "metadata": {},
   "source": [
    "### Feature engineering"
   ]
  },
  {
   "cell_type": "code",
   "execution_count": null,
   "id": "85f0748b",
   "metadata": {},
   "outputs": [],
   "source": [
    "df_eng = df_clean.copy()"
   ]
  },
  {
   "cell_type": "code",
   "execution_count": null,
   "id": "fcd8aa91",
   "metadata": {},
   "outputs": [],
   "source": [
    "df_eng.describe(include='all')"
   ]
  },
  {
   "cell_type": "markdown",
   "id": "752cf641",
   "metadata": {},
   "source": [
    "##### date"
   ]
  },
  {
   "cell_type": "code",
   "execution_count": null,
   "id": "cbf8a0d8",
   "metadata": {},
   "outputs": [],
   "source": [
    "df_eng['visit_date'] = pd.to_datetime(df_eng['visit_date'])\n",
    "\n",
    "df_eng['month'] = df_eng.visit_date.apply(lambda x: x.month)\n",
    "df_eng['dayofweek'] = df_eng.visit_date.apply(lambda x: x.day)\n",
    "df_eng['year'] = df_eng.visit_date.apply(lambda x: x.year)"
   ]
  },
  {
   "cell_type": "code",
   "execution_count": null,
   "id": "2b7de126",
   "metadata": {},
   "outputs": [],
   "source": [
    "df_eng.year.value_counts()"
   ]
  },
  {
   "cell_type": "code",
   "execution_count": null,
   "id": "0b277810",
   "metadata": {},
   "outputs": [],
   "source": [
    "df_eng['visit_time'] = pd.to_datetime(df_eng['visit_time'], format='%H:%M:%S')\n",
    "df_eng['hour'] = df_eng['visit_time'].dt.hour"
   ]
  },
  {
   "cell_type": "code",
   "execution_count": null,
   "id": "0f6efd89",
   "metadata": {},
   "outputs": [],
   "source": [
    "df_eng = df_eng.drop(columns = ['year'])"
   ]
  },
  {
   "cell_type": "markdown",
   "id": "4c0e2f98",
   "metadata": {},
   "source": [
    "##### session_id & client_id"
   ]
  },
  {
   "cell_type": "code",
   "execution_count": null,
   "id": "00cc9670",
   "metadata": {},
   "outputs": [],
   "source": [
    "df_session = df_eng[['session_id', 'event_action', 'client_id']].copy()\n",
    "df_session['x_parts_session'] = df_session['session_id'].str.split('.')\n",
    "df_session['x_parts_client'] = df_session['client_id'].str.split('.')\n",
    "\n",
    "df_session['session_x0'] = df_session['x_parts_session'].str[0]\n",
    "df_session['session_x1'] = df_session['x_parts_session'].str[1]\n",
    "df_session['session_x2'] = df_session['x_parts_session'].str[2]\n",
    "\n",
    "df_session['client_x0'] = df_session['x_parts_client'].str[0]\n",
    "df_session['client_x1'] = df_session['x_parts_client'].str[1]                    \n",
    "\n",
    "unique_session_x0_count = df_session['session_x0'].nunique()\n",
    "unique_session_x1_count = df_session['session_x1'].nunique()\n",
    "unique_session_x2_count = df_session['session_x2'].nunique()\n",
    "\n",
    "unique_client_x0_count = df_session['client_x0'].nunique()\n",
    "unique_client_x1_count = df_session['client_x1'].nunique()\n",
    "\n",
    "print(f\"Количество уникальных значений в session_x0: {unique_session_x0_count}\")\n",
    "print(f\"Количество уникальных значений в session_x1: {unique_session_x1_count}\")\n",
    "print(f\"Количество уникальных значений в session_x2: {unique_session_x2_count}\")\n",
    "\n",
    "print(f\"Количество уникальных значений в client_x0: {unique_client_x0_count}\")\n",
    "print(f\"Количество уникальных значений в client_x1: {unique_client_x1_count}\")\n"
   ]
  },
  {
   "cell_type": "markdown",
   "id": "d8300a32",
   "metadata": {},
   "source": [
    "##### device_screen_resolution len"
   ]
  },
  {
   "cell_type": "code",
   "execution_count": null,
   "id": "5ba0314f",
   "metadata": {},
   "outputs": [],
   "source": [
    "df_eng['dev_scr_res_len'] = df_eng.apply (lambda x: len(x.device_screen_resolution), axis = 1)\n",
    "df_eng.dev_scr_res_len.value_counts()"
   ]
  },
  {
   "cell_type": "markdown",
   "id": "d6ff3ce6",
   "metadata": {},
   "source": [
    "##### browser"
   ]
  },
  {
   "cell_type": "code",
   "execution_count": null,
   "id": "057fbdfb",
   "metadata": {},
   "outputs": [],
   "source": [
    "def clean_device_browser(browser):\n",
    "    if 'instagram' in browser:\n",
    "        return 'instagram'\n",
    "    elif 'android' in browser:\n",
    "        return 'android webview'\n",
    "    elif 'opera' in browser:\n",
    "        return 'opera'\n",
    "    elif 'mozilla' in browser:\n",
    "        return 'mozilla'\n",
    "    elif 'internet explorer' in browser:\n",
    "        return 'edge'\n",
    "    else:\n",
    "        return browser\n",
    "\n",
    "df_eng['device_browser'] = df_eng['device_browser'].apply(clean_device_browser)"
   ]
  },
  {
   "cell_type": "markdown",
   "id": "a895f4f3",
   "metadata": {},
   "source": [
    "##### utm_source & utm_adcontent & utm_campaign & utm_medium & device_browser & device_os & device_brand"
   ]
  },
  {
   "cell_type": "code",
   "execution_count": null,
   "id": "37028bc6",
   "metadata": {},
   "outputs": [],
   "source": [
    "columns_to_filter = ['utm_source', 'utm_medium', 'utm_adcontent', 'utm_campaign',\n",
    "                         'device_browser', 'device_os', 'device_brand']\n",
    "\n",
    "for column in columns_to_filter:\n",
    "    print(df_eng[column].value_counts())"
   ]
  },
  {
   "cell_type": "code",
   "execution_count": null,
   "id": "0ec2b44c",
   "metadata": {},
   "outputs": [],
   "source": [
    "for column in columns_to_filter:\n",
    "    counts = df_eng[column].value_counts()\n",
    "    filt = counts[counts < 750].index\n",
    "    df_eng[column] = df_eng[column].apply(lambda x: 'rare' if x in filt else x)"
   ]
  },
  {
   "cell_type": "code",
   "execution_count": null,
   "id": "d2ef3b50",
   "metadata": {
    "scrolled": true
   },
   "outputs": [],
   "source": [
    "for column in columns_to_filter:\n",
    "    print(df_eng[column].value_counts())"
   ]
  },
  {
   "cell_type": "markdown",
   "id": "617a70ba",
   "metadata": {},
   "source": [
    "##### geo_city"
   ]
  },
  {
   "cell_type": "code",
   "execution_count": null,
   "id": "be19a289",
   "metadata": {},
   "outputs": [],
   "source": [
    "df_eng['is_russia'] = df_eng['geo_country'].apply(lambda x: 1 if x == 'russia' else 0)"
   ]
  },
  {
   "cell_type": "code",
   "execution_count": null,
   "id": "e1977767",
   "metadata": {},
   "outputs": [],
   "source": [
    "df_eng['is_available'] = df_eng['geo_city'].apply(lambda x: 1 if x == 'moscow' or x == 'saint petersburg' else 0)"
   ]
  },
  {
   "cell_type": "code",
   "execution_count": null,
   "id": "a065b14d",
   "metadata": {},
   "outputs": [],
   "source": [
    "df_eng['geo_country'] = df_eng['geo_country'].apply(lambda x: 'россия' if x == 'russia' else x)"
   ]
  },
  {
   "cell_type": "code",
   "execution_count": null,
   "id": "9ed95504",
   "metadata": {},
   "outputs": [],
   "source": [
    "cities = {\n",
    "    'tuymazy': 'туймазы',\n",
    "    'zagorjanskas': 'загорянский',\n",
    "    'novoye devyatkino': 'новое девяткино',\n",
    "    'yablonovsky': 'яблоновский',\n",
    "    'petrovo-dalneye': 'петрово-дальнее',\n",
    "    'kalininets': 'калининец'\n",
    "}\n",
    "\n",
    "df_eng['geo_city'] = df_eng['geo_city'].replace(cities)"
   ]
  },
  {
   "cell_type": "code",
   "execution_count": null,
   "id": "f8a07dfc",
   "metadata": {},
   "outputs": [],
   "source": [
    "df_eng[(df_eng['geo_city'] == '(not set)') & (df_eng['geo_country'] == '(not set)')].event_action.value_counts()"
   ]
  },
  {
   "cell_type": "code",
   "execution_count": null,
   "id": "dd32e09d",
   "metadata": {},
   "outputs": [],
   "source": [
    "df_eng = df_eng[(df_eng['geo_city'] != '(not set)') & (df_eng['geo_country'] != '(not set)')]"
   ]
  },
  {
   "cell_type": "code",
   "execution_count": null,
   "id": "36b948e7",
   "metadata": {},
   "outputs": [],
   "source": [
    "def geocode_cities(df):\n",
    "    from geopy.geocoders import Nominatim\n",
    "    \n",
    "    df_copy = df.copy()\n",
    "\n",
    "    geolocator = Nominatim(user_agent=\"geo_app\")\n",
    "    try:\n",
    "        with open('data/coords_cache.pkl', 'rb') as cache_file:\n",
    "            coords_cache = pickle.load(cache_file)\n",
    "    except (FileNotFoundError, EOFError):\n",
    "        coords_cache = {}\n",
    "\n",
    "    def get_coordinates(city, coord_type):\n",
    "        if city not in coords_cache:\n",
    "            try:\n",
    "                if city == '(not set)' or city is None:\n",
    "                    coords_cache[city] = None\n",
    "                else:\n",
    "                    location = geolocator.geocode(city)\n",
    "                    if location:\n",
    "                        coords_cache[city] = {\n",
    "                            'latitude': location.latitude,\n",
    "                            'longitude': location.longitude\n",
    "                        }\n",
    "                    else:\n",
    "                        coords_cache[city] = None\n",
    "                with open('data/coords_cache.pkl', 'wb') as cache_file:\n",
    "                    pickle.dump(coords_cache, cache_file)\n",
    "            except Exception as e:\n",
    "                print(f\"Error geocoding {city}: {str(e)}\")\n",
    "                coords_cache[city] = None\n",
    "\n",
    "        if coords_cache[city]:\n",
    "            return coords_cache[city][coord_type]\n",
    "        else:\n",
    "            return None\n",
    "\n",
    "    df_copy['latitude'] = df_copy['geo_city'].apply(lambda x: get_coordinates(x, 'latitude'))\n",
    "    df_copy['longitude'] = df_copy['geo_city'].apply(lambda x: get_coordinates(x, 'longitude'))\n",
    "\n",
    "    df_copy['latitude'].fillna(df_copy['geo_country'].apply(\n",
    "        lambda x: get_coordinates(x, 'latitude')), inplace=True)\n",
    "    df_copy['longitude'].fillna(df_copy['geo_country'].apply(\n",
    "        lambda x: get_coordinates(x, 'longitude')), inplace=True)\n",
    "\n",
    "    return df_copy\n",
    "\n",
    "\n",
    "df_eng = geocode_cities(df_eng)\n"
   ]
  },
  {
   "cell_type": "code",
   "execution_count": null,
   "id": "7cc86cec",
   "metadata": {},
   "outputs": [],
   "source": [
    "grouped = df_eng.groupby('geo_country')\n",
    "filtered = grouped.filter(lambda x: (x['event_action'] == 0).all())\n",
    "countries = filtered['geo_country'].unique()\n",
    "countries"
   ]
  },
  {
   "cell_type": "code",
   "execution_count": null,
   "id": "e949e589",
   "metadata": {
    "scrolled": true
   },
   "outputs": [],
   "source": [
    "df_eng.isna().sum()"
   ]
  },
  {
   "cell_type": "markdown",
   "id": "d762536d",
   "metadata": {},
   "source": [
    "#### StandardScaler"
   ]
  },
  {
   "cell_type": "code",
   "execution_count": null,
   "id": "bfe18f78",
   "metadata": {},
   "outputs": [],
   "source": [
    "quantitative_variables = ['visit_number', 'month', 'dayofweek', 'hour', 'dev_scr_res_len', \n",
    "                          'latitude', 'longitude']\n",
    "\n",
    "data = df_eng[quantitative_variables].copy()\n",
    "data"
   ]
  },
  {
   "cell_type": "code",
   "execution_count": null,
   "id": "608b5c28",
   "metadata": {},
   "outputs": [],
   "source": [
    "std_scaler = StandardScaler()\n",
    "std_scaler.fit(data)\n",
    "std_scaled = std_scaler.transform(data)\n",
    "print(std_scaled)\n",
    "print(std_scaled.shape)"
   ]
  },
  {
   "cell_type": "code",
   "execution_count": null,
   "id": "2e4fbb84",
   "metadata": {},
   "outputs": [],
   "source": [
    "df_eng[std_scaler.get_feature_names_out()+'_std'] = std_scaled\n",
    "\n",
    "df_eng.head()"
   ]
  },
  {
   "cell_type": "markdown",
   "id": "5a3952be",
   "metadata": {},
   "source": [
    "#### OneHotEncoder"
   ]
  },
  {
   "cell_type": "code",
   "execution_count": null,
   "id": "770120c7",
   "metadata": {},
   "outputs": [],
   "source": [
    "categories = ['utm_source', 'utm_medium', 'utm_campaign', 'utm_adcontent',\n",
    "       'device_category', 'device_brand', 'device_browser', 'device_os']\n",
    "\n",
    "data = df_eng[categories].copy()\n",
    "ohe = OneHotEncoder(sparse_output=False)\n",
    "ohe.fit(data)\n",
    "ohe_data = ohe.transform(data)\n",
    "df_eng[ohe.get_feature_names_out()] = ohe_data"
   ]
  },
  {
   "cell_type": "code",
   "execution_count": null,
   "id": "fff95b02",
   "metadata": {},
   "outputs": [],
   "source": [
    "df_eng.shape"
   ]
  },
  {
   "cell_type": "markdown",
   "id": "66e406c2",
   "metadata": {},
   "source": [
    "#### drop"
   ]
  },
  {
   "cell_type": "code",
   "execution_count": null,
   "id": "83cdd85b",
   "metadata": {},
   "outputs": [],
   "source": [
    "df_drop = df_eng.copy()"
   ]
  },
  {
   "cell_type": "code",
   "execution_count": null,
   "id": "70591bc1",
   "metadata": {},
   "outputs": [],
   "source": [
    "columns_for_drop = ['session_id', 'client_id', 'visit_date', 'visit_time', 'visit_number',\n",
    "       'utm_source', 'utm_medium', 'utm_campaign', 'utm_adcontent',\n",
    "       'device_category', 'device_brand', 'device_screen_resolution',\n",
    "       'device_browser', 'geo_country', 'geo_city', 'month',\n",
    "       'dayofweek', 'hour', 'dev_scr_res_len', 'latitude',\n",
    "       'longitude', 'device_os']\n",
    "\n",
    "df_drop = df_drop.drop(columns_for_drop, axis=1)"
   ]
  },
  {
   "cell_type": "code",
   "execution_count": null,
   "id": "fdc6d1f0",
   "metadata": {
    "scrolled": true
   },
   "outputs": [],
   "source": [
    "df_drop"
   ]
  },
  {
   "cell_type": "code",
   "execution_count": null,
   "id": "adc075cb",
   "metadata": {},
   "outputs": [],
   "source": [
    "df_drop.to_csv('data/df_drop.csv', index=False)"
   ]
  },
  {
   "cell_type": "markdown",
   "id": "5cddc316",
   "metadata": {},
   "source": [
    "## Modeling"
   ]
  }
 ],
 "metadata": {
  "kernelspec": {
   "display_name": "Python 3 (ipykernel)",
   "language": "python",
   "name": "python3"
  },
  "language_info": {
   "codemirror_mode": {
    "name": "ipython",
    "version": 3
   },
   "file_extension": ".py",
   "mimetype": "text/x-python",
   "name": "python",
   "nbconvert_exporter": "python",
   "pygments_lexer": "ipython3",
   "version": "3.10.9"
  }
 },
 "nbformat": 4,
 "nbformat_minor": 5
}
